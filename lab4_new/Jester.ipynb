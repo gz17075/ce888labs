{
 "cells": [
  {
   "cell_type": "code",
   "execution_count": 1,
   "metadata": {},
   "outputs": [],
   "source": [
    "import pandas as pd\n",
    "import numpy as np\n",
    "from IPython.display import Image\n",
    "np.set_printoptions(precision = 3)"
   ]
  },
  {
   "cell_type": "code",
   "execution_count": null,
   "metadata": {},
   "outputs": [],
   "source": [
    "user_ratings_df = pd.read_csv(\"user_ratings.csv\")\n",
    "user_features_df = pd.read_csv(\"user_features.csv\")\n",
    "item_features_df = pd.read_csv(\"item_features.csv\")\n",
    "\n",
    "\n",
    "user_features_df[\"key\"] = 0\n",
    "user_features_df[\"user_id\"] = range(0,user_features_df.shape[0])\n",
    "item_features_df[\"key\"] = 0\n",
    "item_features_df[\"item_id\"] = range(0,item_features_df.shape[0])\n",
    "\n",
    "merged_df = pd.merge(user_features_df, item_features_df,left_index=True,on=\"key\")\n",
    "merged_df[[\"item_id\", \"user_id\"]]\n",
    "\n",
    "\n",
    "\n",
    "\n",
    "merged_df[\"rating\"] = map(lambda ids: user_ratings_df.values[ids[1]][ids[2]], \n",
    "                          merged[[\"user_id\", \"item_id\"]].itertuples())\n",
    "\n",
    "train = merged_df.dropna()\n",
    "\n",
    "test = merged_df[merged.isnull().any(axis=1)]\n",
    "\n",
    "print test.to_latex()"
   ]
  }
 ],
 "metadata": {
  "kernelspec": {
   "display_name": "Python 3",
   "language": "python",
   "name": "python3"
  },
  "language_info": {
   "codemirror_mode": {
    "name": "ipython",
    "version": 3
   },
   "file_extension": ".py",
   "mimetype": "text/x-python",
   "name": "python",
   "nbconvert_exporter": "python",
   "pygments_lexer": "ipython3",
   "version": "3.5.2"
  }
 },
 "nbformat": 4,
 "nbformat_minor": 2
}
